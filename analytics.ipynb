{
 "cells": [
  {
   "cell_type": "code",
   "execution_count": 1,
   "id": "1eda665c-ac42-462e-90d2-ff1f6b868276",
   "metadata": {},
   "outputs": [],
   "source": [
    "import numpy as np\n",
    "import pandas as pd\n",
    "import matplotlib.pyplot as plt\n",
    "\n",
    "import sklearn\n",
    "from sklearn.feature_extraction.text import CountVectorizer\n",
    "from sklearn.decomposition import LatentDirichletAllocation as LDA"
   ]
  },
  {
   "cell_type": "code",
   "execution_count": 2,
   "id": "1c36e2ba-8cea-44ab-9bd9-b64761c04778",
   "metadata": {},
   "outputs": [],
   "source": [
    "df = pd.read_json(\"pycharm_issues.json\", lines=True)"
   ]
  },
  {
   "cell_type": "code",
   "execution_count": 3,
   "id": "bdc48187-b3d3-494e-ad32-ee942fbb69cc",
   "metadata": {},
   "outputs": [],
   "source": [
    "interesting_versions = [\"2020.2\", \"2020.3\", \"2021.1\", \"2021.2\", \"2021.3\"]\n",
    "\n",
    "def check(versions):\n",
    "    for x in interesting_versions:\n",
    "        if x in versions:\n",
    "            return True\n",
    "    return False\n",
    "\n",
    "df = df[df[\"Affected versions\"].apply(check)].reset_index()"
   ]
  },
  {
   "cell_type": "code",
   "execution_count": 4,
   "id": "90fbe672-8a6e-42f5-a8c1-5f45b5ab6fd8",
   "metadata": {
    "tags": []
   },
   "outputs": [],
   "source": [
    "counter = CountVectorizer(\n",
    "    ngram_range=(2, 3), \n",
    "    max_df=0.2\n",
    ")\n",
    "X = counter.fit_transform(df[\"summary\"])"
   ]
  },
  {
   "cell_type": "code",
   "execution_count": 5,
   "id": "0ce5ffde-39c0-4329-8566-841a6b68a9fb",
   "metadata": {
    "tags": []
   },
   "outputs": [
    {
     "data": {
      "text/plain": [
       "LatentDirichletAllocation(n_components=7, random_state=339264239)"
      ]
     },
     "execution_count": 5,
     "metadata": {},
     "output_type": "execute_result"
    }
   ],
   "source": [
    "n_topics = 7\n",
    "lda = LDA(n_components=n_topics, random_state=339264239)\n",
    "lda.fit(X)"
   ]
  },
  {
   "cell_type": "code",
   "execution_count": 6,
   "id": "67a7a2f5-c4d4-4361-aed1-46c42f83d7b0",
   "metadata": {},
   "outputs": [],
   "source": [
    "affected_2020_2 = X[df[df[\"Affected versions\"].apply(lambda x: \"2020.2\" in x)].index, :]\n",
    "affected_2020_3 = X[df[df[\"Affected versions\"].apply(lambda x: \"2020.3\" in x)].index, :]"
   ]
  },
  {
   "cell_type": "code",
   "execution_count": 7,
   "id": "d5684e4d-0a0e-4845-8b3e-371087f4d97c",
   "metadata": {},
   "outputs": [
    {
     "name": "stdout",
     "output_type": "stream",
     "text": [
      "0.9902584576665416 When I move my project in other directory and even delete .idea  PyCharm have troubles with identifying the way to my venv interpreter. It changing this path as soon as I configure it in previous window.  (I`m creatining venv through 'python -m venv venv'). I faced with this problem before.\n",
      "['false positive', 'python console', 'type inference', 'in python console', 'incorrect type']\n",
      "\n",
      "0.9841137212990364 IDE keeps disabling Python plugin, I get and error \"Unable to save plugin settings: The plugin Pythonid failed to save settings and has been disabled. Please restart IntelliJ IDEA\"\n",
      "['python console', 'false positive', 'jupyter notebook', 'on windows', 'type hint']\n",
      "\n",
      "0.982847093786736 Wrong type evaluation in if-else block and different attribute hints for if-else block and inline if-else when some exception can be raised before\n",
      "['completion for', 'code completion', 'no completion for', 'no completion', 'on windows']\n",
      "\n",
      "0.9821375586559549 I run PyCharm Community inside or Rider. Since upgrading to 2021.1 PyCharm is losing track of my python interpreter settings when I close and re-open Rider.\n",
      "['python console', 'python interpreter', 'docker compose', 'false positive', 'in python console']\n",
      "\n",
      "0.9866045521182 hello harry sir my py charm is not working means coursor is stuck at on one point  it appear very bold I have uninstall and install it 2-3 times but it's not working  please help\n",
      "['python interpreter', 'false positive', 'completion for', 'quick documentation', 'type annotation']\n",
      "\n",
      "0.9841211718404224 Pycharm - When putting a breakpoint on a line with while, \"step over\" moves to the line before the line with the breakpoint (in other words, outside of the while loop).\n",
      "['code completion', 'type inference', 'the project', 'python console', 'docker compose']\n",
      "\n",
      "0.9805108515048148 Since update to 2021.1 I am getting the following inspection issues from the multiprocessing module \"cannot find reference <method name here>  in __init__.py\"\n",
      "['false positive', 'docker compose', 'false negative', 'cannot find', 'python console']\n",
      "\n"
     ]
    }
   ],
   "source": [
    "meaningless_words=['is not', 'are not', 'does not', 'in pycharm', 'py charm', 'of the', 'in the', 'instead of', \n",
    "    'is used', 'number of', 'not work', 'does not work', 'unable to', 'in python', 'not working', 'work on', \n",
    "    'python 10', 'fails to', 'error when', 'way to', 'to the', 'doesn work', 'if the', 'pycharm 2020', 'pycharm 2021', 'no longer',\n",
    "    'when using', 'not be', 'from the', 'must not be', 'pycharm does', 'pycharm does not',\n",
    "    'can be', 'must not']\n",
    "\n",
    "feature_names = counter.get_feature_names_out()[np.argsort(lda.components_, axis=-1)[:, ::-1]]\n",
    "docs = lda.transform(X)\n",
    "\n",
    "for features, confidence, doc in zip(feature_names, docs.max(axis=0), df[\"summary\"][docs.argmax(axis=0)]):\n",
    "    out_features = [x for x in features if x not in meaningless_words][:5]\n",
    "    print(confidence, doc)\n",
    "    print(out_features)\n",
    "    print()"
   ]
  },
  {
   "cell_type": "code",
   "execution_count": 8,
   "id": "f524d6ff-25fc-4570-98dd-9a4178e31e48",
   "metadata": {},
   "outputs": [
    {
     "data": {
      "image/png": "[encoded data removed]",
      "text/plain": [
       "<Figure size 1080x504 with 2 Axes>"
      ]
     },
     "metadata": {
      "needs_background": "light"
     },
     "output_type": "display_data"
    }
   ],
   "source": [
    "topics_2020_2 = lda.transform(affected_2020_2).argmax(axis=-1)\n",
    "topics_2020_3 = lda.transform(affected_2020_3).argmax(axis=-1)\n",
    "\n",
    "fig, axs = plt.subplots(1, 2, sharey=True)\n",
    "fig.set_figwidth(15)\n",
    "fig.set_figheight(7)\n",
    "\n",
    "axs[0].hist(topics_2020_2, bins=n_topics, density=True)\n",
    "axs[0].set_xlabel(\"Release 2020.2 topic distribution\")\n",
    "\n",
    "axs[1].hist(topics_2020_3, bins=n_topics, density=True)\n",
    "axs[1].set_xlabel(\"Release 2020.3 topic distribution\")\n",
    "\n",
    "plt.show()"
   ]
  },
  {
   "cell_type": "markdown",
   "id": "1d42a2c2-5294-451e-a603-cdfba3f7d375",
   "metadata": {},
   "source": [
    "# Модель\n",
    "\n",
    "Была построена тематическая модель на основе sklearn.LatentDirichletAllocation (Латентное размещение Дирихле) для тикетов, связанных с релизами с 2020.2 по 2021.3 по сочетаниям из 2-3 слов из summary тикетов\n",
    "\n",
    "# Темы\n",
    "\n",
    "Для интерпретации полученных тем для каждой модели был взят наиболее вероятный документ, это документ с наибольшей вероятностью того, что документ имеет данную тему $P(d|t) = \\frac{P(t|d) P(d)}{P(t)} \\sim P(t|d)$, так как априорная вероятность всех документов одинаковая\n",
    "\n",
    "Также для каждой темы были взяты 5 наиболее вероятных словосочетаний, исключая те, которые бесполезны для определения темы (список meaningless_words)\n",
    "\n",
    "В итоге получилось выделить следующие 7 тем:\n",
    "* Тема 1: проблема с venv\n",
    "* Тема 2: ошибка плагина\n",
    "* Тема 3: ошибка приведения типов\n",
    "* Тема 4: ошибка сохранения настроек\n",
    "* Тема 5: проблема с производительностью\n",
    "* Тема 6: проблема с пошаговой отладкой\n",
    "* Тема 7: ошибка с зависимостями\n",
    "\n",
    "# Визуализация\n",
    "\n",
    "Были построены гистограммы для релизов 2020.2 и 2020.3 с распределением тикетов по темам, по которым можно сделать следующий вывод:\n",
    "* В релизе 2020.2 больше всего проблем было связано с приведением типов\n",
    "* В релизе 2020.3 по сравнению с релизом 2020.2 таких ошибок стало меньше в процентном соотношении, зато появилось больше жалоб на производительность\n",
    "\n",
    "# Проблемы модели\n",
    "\n",
    "В действительности, интерпретация тем довольно неточная, что можно наблюдать даже по тому, как summary топовых тикетов соотносится с наиболее частыми словосочетаниями. Скорее всего на это могло повлиять недостаточное количество данных для построения модели, а также то, что некоторые тикеты (что видно выше) ссылаются на проблемы при переходе между релизами, а следовательно, от релиза к релизу проблемы пользователей несколько меняются, и строя единую модель для них всех, теряется часть информации специфичная для конкретных релизов."
   ]
  },
  {
   "cell_type": "code",
   "execution_count": null,
   "id": "40943613-6465-4e3d-81e5-c530d6158bfc",
   "metadata": {},
   "outputs": [],
   "source": [
    "\n"
   ]
  },
  {
   "cell_type": "code",
   "execution_count": null,
   "id": "c211c040-4038-4a84-a540-5d9e693a2138",
   "metadata": {},
   "outputs": [],
   "source": []
  }
 ],
 "metadata": {
  "kernelspec": {
   "display_name": "Python 3 (ipykernel)",
   "language": "python",
   "name": "python3"
  },
  "language_info": {
   "codemirror_mode": {
    "name": "ipython",
    "version": 3
   },
   "file_extension": ".py",
   "mimetype": "text/x-python",
   "name": "python",
   "nbconvert_exporter": "python",
   "pygments_lexer": "ipython3",
   "version": "3.7.12"
  }
 },
 "nbformat": 4,
 "nbformat_minor": 5
}
